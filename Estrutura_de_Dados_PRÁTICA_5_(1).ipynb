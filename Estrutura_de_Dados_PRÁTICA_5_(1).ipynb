{
  "cells": [
    {
      "cell_type": "markdown",
      "metadata": {
        "id": "view-in-github",
        "colab_type": "text"
      },
      "source": [
        "<a href=\"https://colab.research.google.com/github/RenanMorais70/Aula-Conex-o-com-um-arquivo-JavaScript/blob/main/Estrutura_de_Dados_PR%C3%81TICA_5_(1).ipynb\" target=\"_parent\"><img src=\"https://colab.research.google.com/assets/colab-badge.svg\" alt=\"Open In Colab\"/></a>"
      ]
    },
    {
      "cell_type": "markdown",
      "metadata": {
        "id": "dRo4d2xzy9uO"
      },
      "source": [
        "## TABELA HASH\n",
        "---"
      ]
    },
    {
      "cell_type": "code",
      "execution_count": null,
      "metadata": {
        "id": "-q9SyR6F4w6r"
      },
      "outputs": [],
      "source": [
        "def hashFunc (k, n):\n",
        "    return k % n\n",
        "\n",
        "def hashFuncSigla (k, n):\n",
        "    k = list(k)\n",
        "    return (ord(k[0]) + ord(k[1])) % n"
      ]
    },
    {
      "cell_type": "code",
      "execution_count": null,
      "metadata": {
        "id": "-FKMOsFtnIqf"
      },
      "outputs": [],
      "source": [
        "#Tentativa linear\n",
        "def tentativaLinear(k, n, pos, tabelaHash):\n",
        "  tentativa = pos\n",
        "  while (tabelaHash[tentativa] != None):\n",
        "    tentativa += 1\n",
        "    if tentativa == n:\n",
        "      tentativa = 0\n",
        "    if tentativa == pos:\n",
        "      tentativa = -1\n",
        "      break\n",
        "  return tentativa\n",
        "\n",
        "#Tentativa linear Remover\n",
        "def tentativaLinearDel(k, n, pos, tabelaHash):\n",
        "  tentativa = pos\n",
        "  while (tabelaHash[tentativa] != k):\n",
        "    tentativa += 1\n",
        "    if tentativa == n:\n",
        "      tentativa = 0\n",
        "    if tentativa == pos:\n",
        "      tentativa = -1\n",
        "      break\n",
        "  return tentativa\n",
        "\n",
        "#Programa principal\n",
        "n = 10\n",
        "tabelaHash = [None] * n\n",
        "\n",
        "while True:\n",
        "  print('1 - Inserir na tabela hash')\n",
        "  print('2 - Remover na tabela hash')\n",
        "  print('3 - Listar a tabela hash')\n",
        "  print('4 - Sair')\n",
        "\n",
        "  op = int(input(\"Escolha uma opção:\"))\n",
        "  if op == 1:\n",
        "    chave = input('Digite a sigla de um estado: ')\n",
        "    pos = hashFuncSigla(chave, n)\n",
        "    if tabelaHash[pos] == None:\n",
        "        tabelaHash[pos] = chave\n",
        "    else: #Colisão!\n",
        "        pos = tentativaLinear(chave, n, pos, tabelaHash)\n",
        "        if pos != -1:\n",
        "          tabelaHash[pos] = chave\n",
        "        else:\n",
        "          print('Tabela hash cheia. Impossível inserir!')\n",
        "  elif op == 2:\n",
        "    chave = input('Digite o que deseja remover: ')\n",
        "    pos = hashFuncSigla(chave, n)\n",
        "    if tabelaHash[pos] == chave:\n",
        "        tabelaHash[pos] = None\n",
        "    else: #Colisão\n",
        "        pos = tentativaLinearDel(chave, n, pos, tabelaHash)\n",
        "        if pos != -1:\n",
        "          tabelaHash[pos] = None\n",
        "        else:\n",
        "            print('Valor não localizado para a remoção!')\n",
        "  elif op == 3:\n",
        "      print(tabelaHash)\n",
        "  elif op == 4:\n",
        "    print('Encerrando...')\n",
        "    break\n",
        "  else:\n",
        "    print(\"Selecione outra opção!\\n\")"
      ]
    },
    {
      "cell_type": "markdown",
      "metadata": {
        "id": "rLsyOci_gTon"
      },
      "source": [
        "## TABELA HASH COM ENDEREÇAMENTO EM CADEIA\n",
        "---"
      ]
    },
    {
      "cell_type": "code",
      "execution_count": null,
      "metadata": {
        "colab": {
          "background_save": true
        },
        "id": "jWRkg5lwhxBS"
      },
      "outputs": [],
      "source": [
        "class ElementoDaListaSimples:\n",
        "    def __init__(self, chave=None, dado=None):\n",
        "        self.chave = chave\n",
        "        self.dado = dado\n",
        "        self.proximo = None\n",
        "\n",
        "class ListaEncadeadaSimples:\n",
        "    def __init__(self):\n",
        "        self.head = None\n",
        "\n",
        "    def inserir(self, chave, dado):\n",
        "        nodo = ElementoDaListaSimples(chave, dado)\n",
        "        if self.head == None:\n",
        "            self.head = nodo\n",
        "            return 0\n",
        "        else:\n",
        "            nodo.proximo = self.head\n",
        "            self.head = nodo\n",
        "            return 0\n",
        "\n",
        "    def imprimir(self):\n",
        "        temp = self.head\n",
        "        while temp:\n",
        "            print(f\"{temp.chave}\\t{temp.dado}\")\n",
        "            temp = temp.proximo\n",
        "\n",
        "class TabelaHash:\n",
        "    def __init__(self):\n",
        "        self.tam = 10\n",
        "        self.length = 0\n",
        "        self.h = [ListaEncadeadaSimples() for i in range(0, self.tam)]\n",
        "\n",
        "    def hashFunc(self, k):\n",
        "        k = list(k)\n",
        "        return (ord(k[0]) + ord(k[1])) % self.tam\n",
        "\n",
        "    def inserir(self, chave, dado):\n",
        "        pos = self.hashFunc(chave)\n",
        "        add = self.h[pos].inserir(chave, dado)\n",
        "\n",
        "\n",
        "    def imprimir(self):\n",
        "        for i in range(0, self.tam):\n",
        "            self.h[i].imprimir()\n",
        "\n",
        "\n",
        "#Programa principal\n",
        "Teste = TabelaHash()\n",
        "while True:\n",
        "  print('1 - Inserir na tabela hash')\n",
        "  print('2 - Remover na tabela hash')\n",
        "  print('3 - Listar a tabela hash')\n",
        "  print('4 - Sair')\n",
        "\n",
        "  op = int(input(\"Escolha uma opção:\"))\n",
        "  if op == 1:\n",
        "    chave = input('Digite a sigla de um estado: ')\n",
        "    dado = input('Digite o nome do estado: ')\n",
        "    Teste.inserir(chave, dado)\n",
        "  elif op == 2:\n",
        "    chave = input('Digite o que deseja remover: ')\n",
        "    #IMPLEMENTAR\n",
        "  elif op == 3:\n",
        "      Teste.imprimir()\n",
        "  elif op == 4:\n",
        "    print('Encerrando...')\n",
        "    break\n",
        "  else:\n",
        "    print(\"Selecione outra opção!\\n\")"
      ]
    }
  ],
  "metadata": {
    "colab": {
      "provenance": [],
      "include_colab_link": true
    },
    "kernelspec": {
      "display_name": "Python 3",
      "name": "python3"
    },
    "language_info": {
      "name": "python"
    }
  },
  "nbformat": 4,
  "nbformat_minor": 0
}