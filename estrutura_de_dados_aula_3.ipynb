{
  "cells": [
    {
      "cell_type": "markdown",
      "metadata": {
        "id": "view-in-github",
        "colab_type": "text"
      },
      "source": [
        "<a href=\"https://colab.research.google.com/github/RenanMorais70/Aula-Conex-o-com-um-arquivo-JavaScript/blob/main/estrutura_de_dados_aula_3.ipynb\" target=\"_parent\"><img src=\"https://colab.research.google.com/assets/colab-badge.svg\" alt=\"Open In Colab\"/></a>"
      ]
    },
    {
      "cell_type": "markdown",
      "metadata": {
        "id": "hraSjyIoz4cM"
      },
      "source": [
        "## LISTA ENCADEADA\n",
        "\n",
        "---"
      ]
    },
    {
      "cell_type": "markdown",
      "metadata": {
        "id": "tXcyJtj3z7S4"
      },
      "source": [
        "### LISTA ENCADEADA SIMPLES"
      ]
    },
    {
      "cell_type": "code",
      "execution_count": null,
      "metadata": {
        "id": "YaXKdigTArau"
      },
      "outputs": [],
      "source": [
        "#Cria cada elemento da lista\n",
        "class ElementoDaListaSimples:\n",
        "# construtor de inicialização da classe\n",
        "    def __init__(self, dado):\n",
        "        self.dado = dado\n",
        "        self.proximo = None\n",
        "\n",
        "#__repr__ é um método especial do Python\n",
        "#use-o para criar a maneira como objeto\n",
        "#é mostrado fora da função print\n",
        "    def __repr__(self):\n",
        "        return self.dado"
      ]
    },
    {
      "cell_type": "code",
      "execution_count": null,
      "metadata": {
        "id": "6dzIZ_o5As2n"
      },
      "outputs": [],
      "source": [
        "#Cria a lista encadeada simples\n",
        "class ListaEncadeadaSimples:\n",
        "  def __init__(self, nodos=None):\n",
        "    self.head = None\n",
        "    if nodos is not None:\n",
        "        nodo = ElementoDaListaSimples(dado=nodos.pop(0))\n",
        "        self.head = nodo\n",
        "        for elem in nodos:\n",
        "            nodo.proximo = ElementoDaListaSimples(dado=elem)\n",
        "            nodo = nodo.proximo\n",
        "\n",
        "  def __repr__(self):\n",
        "      nodo = self.head\n",
        "      nodos = []\n",
        "      while nodo is not None:\n",
        "          nodos.append(nodo.dado)\n",
        "          nodo = nodo.proximo\n",
        "      nodos.append(\"None\")\n",
        "      return \" -> \".join(nodos)\n",
        "\n",
        "#Varre a lista\n",
        "  def __iter__(self):\n",
        "    nodo = self.head\n",
        "    while nodo is not None:\n",
        "        yield nodo\n",
        "        nodo = nodo.proximo\n",
        "\n",
        "  def inserirNoInicio(self, nodo):\n",
        "    nodo.proximo = self.head\n",
        "    self.head = nodo\n",
        "\n",
        "  def inserirNoFinal(self, nodo):\n",
        "    if self.head is None:\n",
        "        self.head = nodo\n",
        "        return\n",
        "\n",
        "    nodo_atual = self.head\n",
        "    while nodo_atual.proximo != None:\n",
        "        nodo_atual = nodo_atual.proximo\n",
        "\n",
        "    nodo_atual.proximo = nodo\n",
        "    return\n",
        "\n",
        "  def deletar(self, dado):\n",
        "    if self.head is None:\n",
        "        raise Exception(\"A lista está vazia!\")\n",
        "\n",
        "    if self.head.dado == dado:\n",
        "        self.head = self.head.proximo\n",
        "        return\n",
        "\n",
        "    nodo_anterior = self.head\n",
        "    for nodo in self:\n",
        "        if nodo.dado == dado:\n",
        "            nodo_anterior.proximo = nodo.proximo\n",
        "            return\n",
        "        nodo_anterior = nodo\n",
        "\n",
        "    raise Exception(\"Nó com o dado '%s' não foi econtrado.\" % dado)"
      ]
    },
    {
      "cell_type": "code",
      "execution_count": null,
      "metadata": {
        "colab": {
          "base_uri": "https://localhost:8080/"
        },
        "id": "0vQlPQ5lA7l2",
        "outputId": "b4050f89-1a94-4751-e293-a4417504187b"
      },
      "outputs": [
        {
          "output_type": "stream",
          "name": "stdout",
          "text": [
            "7 -> 15 -> 4 -> 40 -> 12 -> 24 -> None\n",
            "7 -> 15 -> 40 -> 12 -> 24 -> None\n"
          ]
        }
      ],
      "source": [
        "Teste = ListaEncadeadaSimples()\n",
        "\n",
        "Teste.inserirNoInicio(ElementoDaListaSimples('40'))\n",
        "Teste.inserirNoInicio(ElementoDaListaSimples('4'))\n",
        "Teste.inserirNoInicio(ElementoDaListaSimples('15'))\n",
        "Teste.inserirNoInicio(ElementoDaListaSimples('7'))\n",
        "\n",
        "Teste.inserirNoFinal(ElementoDaListaSimples('12'))\n",
        "Teste.inserirNoFinal(ElementoDaListaSimples('24'))\n",
        "\n",
        "for nodo in Teste:\n",
        "  print(nodo, end=' -> ')\n",
        "print('None')\n",
        "\n",
        "Teste.deletar('4')\n",
        "\n",
        "for nodo in Teste:\n",
        "  print(nodo, end=' -> ')\n",
        "print('None')"
      ]
    },
    {
      "cell_type": "markdown",
      "metadata": {
        "id": "l1GiWJ_TE2Bz"
      },
      "source": [
        "## PLHAS (STACKS)\n",
        "\n",
        "---"
      ]
    },
    {
      "cell_type": "code",
      "execution_count": null,
      "metadata": {
        "id": "Oi9-0zYoE7hY"
      },
      "outputs": [],
      "source": [
        "#VERSÃO SIMPLIFICADO DO PYTHON\n",
        "pilha = []\n",
        "tam = 5\n",
        "\n",
        "while True:\n",
        "  print('1 - Inserir na pilha')\n",
        "  print('2 - Remover da pilha')\n",
        "  print('3 - Listar a pilha')\n",
        "  print('4 - Sair')\n",
        "\n",
        "  op = int(input(\"Escolha uma opção:\"))\n",
        "  if op ==1:\n",
        "    dado = int(input('Qual número deseja inserir?'))\n",
        "    if len(pilha) < 5:\n",
        "      pilha.append(dado)\n",
        "    else:\n",
        "      print('Pilha cheia! Impossível inserir. ')\n",
        "  elif op == 2:\n",
        "    if len(pilha) > 0:\n",
        "      pilha.pop()\n",
        "    else:\n",
        "      print('Pilha vazia! Impossível remover. ')\n",
        "  elif op == 3:\n",
        "    pilha.reverse()\n",
        "    for item in pilha:\n",
        "      print(item)\n",
        "  elif op == 4:\n",
        "    print('Encerrando...')\n",
        "    break\n",
        "  else:\n",
        "    print(\"Selecione outra opção!\\n\")"
      ]
    },
    {
      "cell_type": "code",
      "execution_count": null,
      "metadata": {
        "colab": {
          "base_uri": "https://localhost:8080/"
        },
        "id": "mMPMYzEgThLN",
        "outputId": "088a2417-1ed6-4990-8fab-e17c314bd50e"
      },
      "outputs": [
        {
          "output_type": "stream",
          "name": "stdout",
          "text": [
            "1 - Inserir na pilha\n",
            "2 - Remover da pilha\n",
            "3 - Listar a pilha\n",
            "4 - Sair\n",
            "Escolha uma opção:4\n",
            "Encerrando...\n"
          ]
        }
      ],
      "source": [
        "def push(pilha, top, tam, dado):\n",
        "  if len(pilha) == tam:\n",
        "    print('Pilha cheia! Impossível inserir. ')\n",
        "  else:\n",
        "    pilha.insert(top, dado)\n",
        "    top += 1\n",
        "    return pilha, top\n",
        "\n",
        "def pop(pilha, top):\n",
        "  if len(pilha) == 0:\n",
        "    print('Pilha vazia! Impossível remover. ')\n",
        "  else:\n",
        "    del pilha[top]\n",
        "    top -= 1\n",
        "    return pilha, top\n",
        "\n",
        "#Programa principal\n",
        "top = 0\n",
        "pilha = []\n",
        "tam = 5\n",
        "\n",
        "while True:\n",
        "  print('1 - Inserir na pilha')\n",
        "  print('2 - Remover da pilha')\n",
        "  print('3 - Listar a pilha')\n",
        "  print('4 - Sair')\n",
        "\n",
        "  op = int(input(\"Escolha uma opção:\"))\n",
        "  if op ==1:\n",
        "    dado = int(input('Qual número deseja inserir?'))\n",
        "    push(pilha, top, tam, dado)\n",
        "  elif op == 2:\n",
        "    pop(pilha, top)\n",
        "  elif op == 3:\n",
        "    for item in pilha:\n",
        "      print(item)\n",
        "  elif op == 4:\n",
        "    print('Encerrando...')\n",
        "    break\n",
        "  else:\n",
        "    print(\"Selecione outra opção!\\n\")"
      ]
    },
    {
      "cell_type": "markdown",
      "metadata": {
        "id": "X60B3_a4dbXP"
      },
      "source": [
        "## FILAS (QUEUES)\n",
        "\n",
        "---"
      ]
    },
    {
      "cell_type": "code",
      "source": [
        "#VERSÃO SIMPLIFICADO DO PYTHON\n",
        "fila = []\n",
        "tam = 5\n",
        "\n",
        "while True:\n",
        "  print('1 - Inserir na fila')\n",
        "  print('2 - Remover da fila')\n",
        "  print('3 - Listar a fila')\n",
        "  print('4 - Sair')\n",
        "\n",
        "  op = int(input(\"Escolha uma opção:\"))\n",
        "  if op == 1:\n",
        "    dado = int(input('Qual número deseja inserir?'))\n",
        "    if len(fila) < 5:\n",
        "      fila.append(dado)\n",
        "    else:\n",
        "      print('Fila cheia! Impossível inserir. ')\n",
        "  elif op == 2:\n",
        "    if len(fila) > 0:\n",
        "      fila.pop(0)\n",
        "    else:\n",
        "      print('Fila vazia! Impossível remover. ')\n",
        "  elif op == 3:\n",
        "    for item in fila:\n",
        "      print(item, end=' ')\n",
        "    print('\\n')\n",
        "  elif op == 4:\n",
        "    print('Encerrando...')\n",
        "    break\n",
        "  else:\n",
        "    print(\"Selecione outra opção!\\n\")"
      ],
      "metadata": {
        "id": "UKsVwFxL39P5"
      },
      "execution_count": null,
      "outputs": []
    },
    {
      "cell_type": "code",
      "source": [
        "def queue(pilha, fim, tam, dado):\n",
        "  if len(fila) == tam:\n",
        "    print('Fila cheia! Impossível inserir. ')\n",
        "  else:\n",
        "    if fim < tam:\n",
        "      fila.insert(fim, dado)\n",
        "      fim += 1\n",
        "    else:\n",
        "      fim = 0\n",
        "      fila.insert(fim, dado)\n",
        "  return fila, fim\n",
        "\n",
        "def dequeue(fila, inicio):\n",
        "  if len(fila) == 0:\n",
        "    print('Fila vazia! Impossível remover. ')\n",
        "  else:\n",
        "    fila[inicio] = None\n",
        "    inicio += 1\n",
        "  return fila, inicio\n",
        "\n",
        "#Programa principal\n",
        "inicio = 0\n",
        "fim = 0\n",
        "fila = []\n",
        "tam = 5\n",
        "\n",
        "while True:\n",
        "  print('1 - Inserir na fila')\n",
        "  print('2 - Remover da fila')\n",
        "  print('3 - Listar a fila')\n",
        "  print('4 - Sair')\n",
        "\n",
        "  op = int(input(\"Escolha uma opção:\"))\n",
        "  if op ==1:\n",
        "    dado = int(input('Qual número deseja inserir?'))\n",
        "    fila, fim = queue(fila, fim, tam, dado)\n",
        "  elif op == 2:\n",
        "    fila, inicio = dequeue(fila, inicio)\n",
        "  elif op == 3:\n",
        "    for item in fila:\n",
        "      print(item, end=\" \")\n",
        "    print()\n",
        "  elif op == 4:\n",
        "    print('Encerrando...')\n",
        "    break\n",
        "  else:\n",
        "    print(\"Selecione outra opção!\\n\")"
      ],
      "metadata": {
        "id": "I9L-S3XpeSeR",
        "colab": {
          "base_uri": "https://localhost:8080/"
        },
        "outputId": "eb889aa0-e108-49e9-8022-91e684e90fe3"
      },
      "execution_count": null,
      "outputs": [
        {
          "output_type": "stream",
          "name": "stdout",
          "text": [
            "1 - Inserir na fila\n",
            "2 - Remover da fila\n",
            "3 - Listar a fila\n",
            "4 - Sair\n",
            "Escolha uma opção:1\n",
            "Qual número deseja inserir?5\n",
            "1 - Inserir na fila\n",
            "2 - Remover da fila\n",
            "3 - Listar a fila\n",
            "4 - Sair\n",
            "Escolha uma opção:1\n",
            "Qual número deseja inserir?7\n",
            "1 - Inserir na fila\n",
            "2 - Remover da fila\n",
            "3 - Listar a fila\n",
            "4 - Sair\n",
            "Escolha uma opção:3\n",
            "5 7 \n",
            "1 - Inserir na fila\n",
            "2 - Remover da fila\n",
            "3 - Listar a fila\n",
            "4 - Sair\n",
            "Escolha uma opção:4\n",
            "Encerrando...\n"
          ]
        }
      ]
    }
  ],
  "metadata": {
    "colab": {
      "provenance": [],
      "include_colab_link": true
    },
    "kernelspec": {
      "display_name": "Python 3",
      "name": "python3"
    },
    "language_info": {
      "name": "python"
    }
  },
  "nbformat": 4,
  "nbformat_minor": 0
}