{
  "nbformat": 4,
  "nbformat_minor": 0,
  "metadata": {
    "colab": {
      "provenance": [],
      "include_colab_link": true
    },
    "kernelspec": {
      "name": "python3",
      "display_name": "Python 3"
    },
    "language_info": {
      "name": "python"
    }
  },
  "cells": [
    {
      "cell_type": "markdown",
      "metadata": {
        "id": "view-in-github",
        "colab_type": "text"
      },
      "source": [
        "<a href=\"https://colab.research.google.com/github/RenanMorais70/Aula-Conex-o-com-um-arquivo-JavaScript/blob/main/Estrutura_de_Dados_PR%C3%81TICA_6_(1).ipynb\" target=\"_parent\"><img src=\"https://colab.research.google.com/assets/colab-badge.svg\" alt=\"Open In Colab\"/></a>"
      ]
    },
    {
      "cell_type": "markdown",
      "source": [
        "## CRIANDO O GRAFO\n",
        "---"
      ],
      "metadata": {
        "id": "pcgGnSxtVNaH"
      }
    },
    {
      "cell_type": "code",
      "source": [
        "#implementação com lista de adjacência\n",
        "class Vertice:\n",
        "    def __init__(self, n):\n",
        "      self.nome = n\n",
        "      self.vizinhos = list()\n",
        "\n",
        "    def addVizinho(self, v):\n",
        "      if v not in self.vizinhos:\n",
        "          self.vizinhos.append(v)\n",
        "          self.vizinhos.sort()\n",
        "\n",
        "class Grafo:\n",
        "    vertices = {}\n",
        "\n",
        "    def addVertice(self, vertice):\n",
        "        #Verifique se o objeto é de fato um objeto de vértice e se ele ainda não existe\n",
        "        if isinstance(vertice, Vertice) and vertice.nome not in self.vertices:\n",
        "            #adiciona o vértice no dicionario\n",
        "            self.vertices[vertice.nome] = vertice\n",
        "            return True\n",
        "        else:\n",
        "            return False\n",
        "\n",
        "    def addAresta(self, u, v):\n",
        "        #verifica se ambos vertices de fato existe para criar a aresta\n",
        "        if u in self.vertices and v in self.vertices:\n",
        "            for key, valor in self.vertices.items():\n",
        "                #adiciona um na lista de vizinhos do outro\n",
        "                if key == u:\n",
        "                    valor.addVizinho(v)\n",
        "                if key == v:\n",
        "                    valor.addVizinho(u)\n",
        "            return True\n",
        "        else:\n",
        "            return False\n",
        "\n",
        "    #Imprime a lsita de adjacências\n",
        "    def printGrafo(self):\n",
        "        for key in sorted(list(self.vertices.keys())):\n",
        "            print(key + str(self.vertices[key].vizinhos))\n",
        "\n",
        "G = Grafo()\n",
        "for i in range(ord('A'), ord('G')):\n",
        "    G.addVertice(Vertice(chr(i)))\n",
        "\n",
        "arestas = ['AB','AD','BC','CD','CE','CF']\n",
        "for aresta in arestas:\n",
        "    G.addAresta(aresta[:1], aresta[1:])\n",
        "\n",
        "G.printGrafo()"
      ],
      "metadata": {
        "id": "kPvSJr1vVSMs",
        "colab": {
          "base_uri": "https://localhost:8080/"
        },
        "outputId": "1bfafcf0-578d-4095-b310-ebf75d47a9f1"
      },
      "execution_count": null,
      "outputs": [
        {
          "output_type": "stream",
          "name": "stdout",
          "text": [
            "A['B', 'D']\n",
            "B['A', 'C']\n",
            "C['B', 'D', 'E', 'F']\n",
            "D['A', 'C']\n",
            "E['C']\n",
            "F['C']\n"
          ]
        }
      ]
    },
    {
      "cell_type": "markdown",
      "source": [
        "## DFS\n",
        "---"
      ],
      "metadata": {
        "id": "ObAiQJUKq1D1"
      }
    },
    {
      "cell_type": "code",
      "source": [
        "#implementação com lista de adjacência\n",
        "class Vertice:\n",
        "    def __init__(self, n):\n",
        "      self.nome = n\n",
        "      self.vizinhos = list()\n",
        "\n",
        "      self.ordemDescoberta = 0\n",
        "      self.visitado = 0\n",
        "\n",
        "    def addVizinho(self, v):\n",
        "      if v not in self.vizinhos:\n",
        "          self.vizinhos.append(v)\n",
        "          self.vizinhos.sort()\n",
        "\n",
        "class Grafo:\n",
        "    vertices = {}\n",
        "    ordem = 0\n",
        "\n",
        "    def addVertice(self, vertice):\n",
        "        #Verifique se o objeto é de fato um objeto de vértice e se ele ainda não existe\n",
        "        if isinstance(vertice, Vertice) and vertice.nome not in self.vertices:\n",
        "            #adiciona o vértice no dicionario\n",
        "            self.vertices[vertice.nome] = vertice\n",
        "            return True\n",
        "        else:\n",
        "            return False\n",
        "\n",
        "    def addAresta(self, u, v):\n",
        "        #verifica se ambos vertices de fato existe para criar a aresta\n",
        "        if u in self.vertices and v in self.vertices:\n",
        "            for key, valor in self.vertices.items():\n",
        "                #adiciona um na lista de vizinhos do outro\n",
        "                if key == u:\n",
        "                    valor.addVizinho(v)\n",
        "                if key == v:\n",
        "                    valor.addVizinho(u)\n",
        "            return True\n",
        "        else:\n",
        "            return False\n",
        "\n",
        "    #Imprime a lista de adjacências\n",
        "    def printGrafo(self):\n",
        "        for key in sorted(list(self.vertices.keys())):\n",
        "            print(key + str(self.vertices[key].vizinhos) + ' ' + str(self.vertices[key].ordemDescoberta))\n",
        "\n",
        "    def _dfs(self, vertice):\n",
        "        global ordem\n",
        "        vertice.visitado = 1\n",
        "        vertice.ordemDescoberta = ordem\n",
        "        ordem += 1\n",
        "        for v in vertice.vizinhos:\n",
        "            if self.vertices[v].visitado == 0:\n",
        "                self._dfs(self.vertices[v])\n",
        "\n",
        "    def dfs(self, vertice):\n",
        "        global ordem\n",
        "        ordem = 1\n",
        "        self._dfs(vertice)\n",
        "\n",
        "\n",
        "G = Grafo()\n",
        "origem = Vertice('A')\n",
        "G.addVertice(origem)\n",
        "\n",
        "for i in range(ord('A'), ord('G')):\n",
        "    G.addVertice(Vertice(chr(i)))\n",
        "\n",
        "arestas = ['AB','AD','BC','CD','CE','CF']\n",
        "for aresta in arestas:\n",
        "    G.addAresta(aresta[:1], aresta[1:])\n",
        "\n",
        "G.dfs(origem)\n",
        "G.printGrafo()"
      ],
      "metadata": {
        "colab": {
          "base_uri": "https://localhost:8080/"
        },
        "id": "HUyuYveV1ivc",
        "outputId": "9eb8d1c4-5d75-4c9b-add4-82a31666563d"
      },
      "execution_count": null,
      "outputs": [
        {
          "output_type": "stream",
          "name": "stdout",
          "text": [
            "A['B', 'D'] 1\n",
            "B['A', 'C'] 2\n",
            "C['B', 'D', 'E', 'F'] 3\n",
            "D['A', 'C'] 4\n",
            "E['C'] 5\n",
            "F['C'] 6\n"
          ]
        }
      ]
    },
    {
      "cell_type": "markdown",
      "source": [
        "## ALGORITMO DE DIJKSTRA\n",
        "---"
      ],
      "metadata": {
        "id": "I20-sNij3zwO"
      }
    },
    {
      "cell_type": "code",
      "source": [
        "#implementação com lista de adjacência\n",
        "class Vertice:\n",
        "    def __init__(self, n):\n",
        "      self.nome = n\n",
        "      self.vizinhos = list()\n",
        "      self.pesos = list()\n",
        "\n",
        "    def addVizinho(self, v, peso):\n",
        "      if v not in self.vizinhos:\n",
        "          self.vizinhos.append(v)\n",
        "          self.vizinhos.sort()\n",
        "          self.pesos.append(peso)\n",
        "\n",
        "class Grafo:\n",
        "    vertices = {}\n",
        "    ordem = 0\n",
        "\n",
        "    def __init__(self):\n",
        "        self.totalVertices = 0\n",
        "\n",
        "    def addVertice(self, vertice):\n",
        "        #Verifique se o objeto é de fato um objeto de vértice e se ele ainda não existe\n",
        "        if isinstance(vertice, Vertice) and vertice.nome not in self.vertices:\n",
        "            #adiciona o vértice no dicionario\n",
        "            self.vertices[vertice.nome] = vertice\n",
        "            self.totalVertices += 1\n",
        "            return True\n",
        "        else:\n",
        "            return False\n",
        "\n",
        "    def addAresta(self, u, v, peso):\n",
        "        #verifica se ambos vertices de fato existe para criar a aresta\n",
        "        if u in self.vertices and v in self.vertices:\n",
        "            for key, valor in self.vertices.items():\n",
        "                #adiciona um na lista de vizinhos do outro\n",
        "                if key == u:\n",
        "                    valor.addVizinho(v, peso)\n",
        "                if key == v:\n",
        "                    valor.addVizinho(u, peso)\n",
        "            return True\n",
        "        else:\n",
        "            return False\n",
        "\n",
        "    #Imprime a lsita de adjacências\n",
        "    def printGrafo(self):\n",
        "        for key in sorted(list(self.vertices.keys())):\n",
        "            print(key + str(self.vertices[key].vizinhos) + ' ' + str(self.vertices[key].pesos))\n",
        "\n",
        "    def Dijkstra(self, origem):\n",
        "        distancias = [float('inf') for i in range(0, self.totalVertices)]\n",
        "        visitados = [0 for i in range(0, self.totalVertices)]\n",
        "        predecessor = [float('inf') for i in range(0, self.totalVertices)]\n",
        "        nodos = [v for v in self.vertices]\n",
        "\n",
        "        distancias[nodos.index(origem.nome)] = 0\n",
        "        predecessor[nodos.index(origem.nome)] = origem\n",
        "\n",
        "        for x in range(0, self.totalVertices):\n",
        "            # Pega o próximo vértice com menor distância\n",
        "            minDistancia = float('inf')\n",
        "            for v in range(0, self.totalVertices):\n",
        "                if(distancias[v] < minDistancia and visitados[v] == 0):\n",
        "                    minDistancia = distancias[v]\n",
        "                    idxProxVertice = v\n",
        "\n",
        "            #Verifica se existe um melhor caminho prolo ProxVertice\n",
        "            visitados[idxProxVertice] = 1\n",
        "            nodoAtual = self.vertices[nodos[idxProxVertice]]\n",
        "            idx = 0\n",
        "            for vizinho in nodoAtual.vizinhos:\n",
        "                if (visitados[nodos.index(vizinho)] == 0):\n",
        "                    if(minDistancia + nodoAtual.pesos[idx] < distancias[nodos.index(vizinho)]):\n",
        "                        distancias[nodos.index(vizinho)] = minDistancia + nodoAtual.pesos[idx]\n",
        "                        predecessor[nodos.index(vizinho)] = nodoAtual\n",
        "                idx += 1\n",
        "        r = 1\n",
        "\n",
        "        #print dos caminhos\n",
        "        print('Vértice de Origem: {}'.format(origem.nome))\n",
        "        for i in range(1, self.totalVertices):\n",
        "            print('Distância para {} = {}'.format(nodos[i], distancias[i]))\n",
        "            print('Caminho: {} '.format(nodos[i]), end = '')\n",
        "            j = i\n",
        "            atual = predecessor[j].nome\n",
        "            while (atual != origem.nome):\n",
        "                print('<- {} '.format(atual), end = '')\n",
        "                atual = predecessor[nodos.index(atual)].nome\n",
        "            print('<- {} '.format(origem.nome))\n",
        "\n",
        "\n",
        "\n",
        "#Programa principal\n",
        "G = Grafo()\n",
        "origem = Vertice('A')\n",
        "G.addVertice(origem)\n",
        "\n",
        "for i in range(ord('A'), ord('G')):\n",
        "    G.addVertice(Vertice(chr(i)))\n",
        "\n",
        "arestas = ['AB','AD','BC','CD','CE','CF']\n",
        "pesos = [10,3,4,1,2,2]\n",
        "i = 0\n",
        "for aresta in arestas:\n",
        "    G.addAresta(aresta[:1], aresta[1:], pesos[i])\n",
        "    i += 1\n",
        "\n",
        "G.Dijkstra(origem)\n",
        "#G.printGrafo()"
      ],
      "metadata": {
        "colab": {
          "base_uri": "https://localhost:8080/"
        },
        "id": "1lqt4FKt37Wd",
        "outputId": "8a5624a8-0999-4287-80d4-4a454d756371"
      },
      "execution_count": null,
      "outputs": [
        {
          "output_type": "stream",
          "name": "stdout",
          "text": [
            "Vértice de Origem: A\n",
            "Distância para B = 8\n",
            "Caminho: B <- C <- D <- A \n",
            "Distância para C = 4\n",
            "Caminho: C <- D <- A \n",
            "Distância para D = 3\n",
            "Caminho: D <- A \n",
            "Distância para E = 6\n",
            "Caminho: E <- C <- D <- A \n",
            "Distância para F = 6\n",
            "Caminho: F <- C <- D <- A \n"
          ]
        }
      ]
    }
  ]
}