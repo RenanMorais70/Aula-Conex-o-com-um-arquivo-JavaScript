{
  "nbformat": 4,
  "nbformat_minor": 0,
  "metadata": {
    "colab": {
      "provenance": [],
      "include_colab_link": true
    },
    "kernelspec": {
      "name": "python3",
      "display_name": "Python 3"
    },
    "language_info": {
      "name": "python"
    }
  },
  "cells": [
    {
      "cell_type": "markdown",
      "metadata": {
        "id": "view-in-github",
        "colab_type": "text"
      },
      "source": [
        "<a href=\"https://colab.research.google.com/github/RenanMorais70/Aula-Conex-o-com-um-arquivo-JavaScript/blob/main/Estrutura_de_Dados_Aula_1.ipynb\" target=\"_parent\"><img src=\"https://colab.research.google.com/assets/colab-badge.svg\" alt=\"Open In Colab\"/></a>"
      ]
    },
    {
      "cell_type": "markdown",
      "source": [
        "## PESQUISA EM UM CONJUNTO DE DADOS\n",
        "\n",
        "---\n",
        "\n"
      ],
      "metadata": {
        "id": "2kriBGVkr4IX"
      }
    },
    {
      "cell_type": "markdown",
      "source": [
        "### PESQUISA SEQUENCIAL"
      ],
      "metadata": {
        "id": "4Rq-F8oBs7kn"
      }
    },
    {
      "cell_type": "code",
      "execution_count": null,
      "metadata": {
        "id": "NzbE2bEinrNM"
      },
      "outputs": [],
      "source": [
        "def buscaSequencial (dados, buscado):\n",
        "  achou = 0\n",
        "  i = 0\n",
        "\n",
        "  while (((i < len(dados))) and (achou == 0)):\n",
        "    if (dados[i] == buscado):\n",
        "      achou = 1\n",
        "    else:\n",
        "      i = i + 1\n",
        "  if (achou == 0):\n",
        "    return -1\n",
        "  else:\n",
        "    return i + 1"
      ]
    },
    {
      "cell_type": "code",
      "source": [
        "#programa principal\n",
        "import random\n",
        "\n",
        "#gerando 10 valores dentro de um intervalo de 0 até 9\n",
        "dados = random.sample(range(10), 10)\n",
        "print(dados)\n",
        "buscado = int(input('Digite o valor que deseja buscar: '))\n",
        "achou = buscaSequencial(dados, buscado)\n",
        "if (achou == -1):\n",
        "  print('Valor não encontrado.')\n",
        "else:\n",
        "  print('Valor encontrado na posição {}'.format(achou))"
      ],
      "metadata": {
        "colab": {
          "base_uri": "https://localhost:8080/"
        },
        "id": "57QWh79jpz4i",
        "outputId": "95bd5c40-e762-4406-f0d8-c8f9afa08fe7"
      },
      "execution_count": null,
      "outputs": [
        {
          "output_type": "stream",
          "name": "stdout",
          "text": [
            "[5, 8, 9, 0, 7, 2, 4, 6, 1, 3]\n",
            "Digite o valor que deseja buscar: 7\n",
            "Valor encontrado na posição 5\n"
          ]
        }
      ]
    },
    {
      "cell_type": "markdown",
      "source": [
        "### PESQUISA BINÁRIA"
      ],
      "metadata": {
        "id": "HnzyQFfctwt7"
      }
    },
    {
      "cell_type": "code",
      "source": [
        "def buscaBinaria (inicio, fim, dados, buscado):\n",
        "  while(inicio <= fim):\n",
        "    meio = int((inicio + fim)/2)\n",
        "    if (buscado > dados[meio]):\n",
        "      inicio = meio + 1\n",
        "    elif (buscado < dados[meio]):\n",
        "      fim = meio - 1\n",
        "    else:\n",
        "      return meio\n",
        "  return -1"
      ],
      "metadata": {
        "id": "oVlTXD4FuD3m"
      },
      "execution_count": null,
      "outputs": []
    },
    {
      "cell_type": "code",
      "source": [
        "#programa principal\n",
        "import random\n",
        "\n",
        "#gerando 10 valores dentro de um intervalo de 0 até 9\n",
        "dados = random.sample(range(10), 10)\n",
        "dados.sort()\n",
        "print(dados)\n",
        "buscado = int(input('Digite o valor que deseja buscar: '))\n",
        "achou = buscaBinaria(0, len(dados), dados, buscado)\n",
        "if (achou == -1):\n",
        "  print('Valor não encontrado.')\n",
        "else:\n",
        "  print('Valor encontrado na posição {}'.format(achou))"
      ],
      "metadata": {
        "colab": {
          "base_uri": "https://localhost:8080/"
        },
        "id": "GQQiovMNuvys",
        "outputId": "cfc7a67e-9e8d-4cc3-b2ea-c0f6f51a921a"
      },
      "execution_count": null,
      "outputs": [
        {
          "output_type": "stream",
          "name": "stdout",
          "text": [
            "[0, 1, 2, 3, 4, 5, 6, 7, 8, 9]\n",
            "Digite o valor que deseja buscar: 4\n",
            "Valor encontrado na posição 4\n"
          ]
        }
      ]
    },
    {
      "cell_type": "markdown",
      "source": [
        "## ENCONTRANDO O BIG-O DE ALGORITMOS\n",
        "\n",
        "---\n"
      ],
      "metadata": {
        "id": "T8lICr2pxKLQ"
      }
    },
    {
      "cell_type": "markdown",
      "source": [
        "## LAÇO SIMPLES"
      ],
      "metadata": {
        "id": "VNT5BkLjxPT-"
      }
    },
    {
      "cell_type": "code",
      "source": [
        "def boo(dados):\n",
        "  for i in dados:\n",
        "    print(i)\n",
        "\n",
        "#gerando 10 valores dentro de um intervalo de 0 até 9\n",
        "import random\n",
        "dados = random.sample(range(10), 10)\n",
        "boo(dados)"
      ],
      "metadata": {
        "id": "tQcEOqZ5xT0l"
      },
      "execution_count": null,
      "outputs": []
    },
    {
      "cell_type": "markdown",
      "source": [
        "## PROPRIEDADE DA ADIÇÃO"
      ],
      "metadata": {
        "id": "KynoN4kwX97L"
      }
    },
    {
      "cell_type": "code",
      "source": [
        "def boo(dadosA, dadosB):\n",
        "  for i in dadosA:\n",
        "    print(i)\n",
        "  for i in dadosB:\n",
        "    print(i)"
      ],
      "metadata": {
        "id": "nlYxNhHeYEGU"
      },
      "execution_count": null,
      "outputs": []
    },
    {
      "cell_type": "markdown",
      "source": [
        "## PROPRIEDADE DA MULTIPLICAÇÃO"
      ],
      "metadata": {
        "id": "qDIKZmLQYA3e"
      }
    },
    {
      "cell_type": "code",
      "source": [
        "def boo(dadosA, dadosB):\n",
        "  for i in dadosA:\n",
        "    for i in dadosB:\n",
        "      print(i + j)"
      ],
      "metadata": {
        "id": "GzyJl66wYEp2"
      },
      "execution_count": null,
      "outputs": []
    },
    {
      "cell_type": "markdown",
      "source": [
        "## PROGRESSÃO ARITMÉTICA (PA)"
      ],
      "metadata": {
        "id": "3iXaa6L7yjkN"
      }
    },
    {
      "cell_type": "code",
      "source": [
        "def boo(dadosA, dadosB):\n",
        "  for i in dadosA:\n",
        "    for j in dadosB:\n",
        "      print(i, j)"
      ],
      "metadata": {
        "id": "niZ3gQm7xnWC"
      },
      "execution_count": null,
      "outputs": []
    },
    {
      "cell_type": "markdown",
      "source": [
        "## PROGRESSÃO GEOMÉTRICA"
      ],
      "metadata": {
        "id": "GC_rSlm4zQua"
      }
    },
    {
      "cell_type": "code",
      "source": [
        "def boo(dadosA, dadosB):\n",
        "  for i in dadosA:\n",
        "    for j in range(0, j < i * i, 1):\n",
        "      print(i, j)"
      ],
      "metadata": {
        "id": "ypwe8HxuzXRX"
      },
      "execution_count": null,
      "outputs": []
    },
    {
      "cell_type": "markdown",
      "source": [
        "## COMPLEXIDADE DA RECURSIVIDADE\n",
        "\n",
        "---"
      ],
      "metadata": {
        "id": "XxwjKeG637Vg"
      }
    },
    {
      "cell_type": "markdown",
      "source": [
        "## FATORIAL RECURSIVO"
      ],
      "metadata": {
        "id": "lThTMQu26QKn"
      }
    },
    {
      "cell_type": "code",
      "source": [
        "#Fatorial recursivo\n",
        "def fatorial(n):\n",
        "  fat = 1\n",
        "  if n == 0 or n == 1:\n",
        "    return fat\n",
        "  else:\n",
        "    return n * fatorial(n-1)\n",
        "\n",
        "#programa princinpal\n",
        "x = fatorial(5)\n",
        "print(x)"
      ],
      "metadata": {
        "colab": {
          "base_uri": "https://localhost:8080/"
        },
        "id": "xcBundI_36to",
        "outputId": "985d2b71-748a-46f4-d7ee-9ebb5a322797"
      },
      "execution_count": null,
      "outputs": [
        {
          "output_type": "stream",
          "name": "stdout",
          "text": [
            "120\n"
          ]
        }
      ]
    },
    {
      "cell_type": "markdown",
      "source": [
        "## EQUAÇÃO GERAL DA RECURSIVIDADE"
      ],
      "metadata": {
        "id": "O6XScU5v5gxj"
      }
    },
    {
      "cell_type": "markdown",
      "source": [
        "## FIBONACCI RECURSIVO"
      ],
      "metadata": {
        "id": "wUUQLuIJ6UGX"
      }
    },
    {
      "cell_type": "code",
      "source": [
        "#Fibonacci recursivo\n",
        "def fib(n):\n",
        "  if n == 1 or n == 2:\n",
        "    return 1\n",
        "  else:\n",
        "    return fib(n - 1) + fib(n - 2)\n",
        "\n",
        "#programa princinpal\n",
        "x = fib(5)\n",
        "print(x)"
      ],
      "metadata": {
        "colab": {
          "base_uri": "https://localhost:8080/"
        },
        "id": "xVr83Dzj5k3s",
        "outputId": "16f4d27b-480c-4fab-e399-88d3743f5b90"
      },
      "execution_count": null,
      "outputs": [
        {
          "output_type": "stream",
          "name": "stdout",
          "text": [
            "5\n"
          ]
        }
      ]
    },
    {
      "cell_type": "markdown",
      "source": [
        "## EXERCÍCIOS"
      ],
      "metadata": {
        "id": "VMz-FXv8OgDg"
      }
    },
    {
      "cell_type": "code",
      "source": [
        "#Exercício 1\n",
        "def Exercicio1 (dados):\n",
        "  for i in range(0, len(dados)/2, 1):\n",
        "    dados[i] = i * 2"
      ],
      "metadata": {
        "id": "4da6jVGUOi0G"
      },
      "execution_count": null,
      "outputs": []
    },
    {
      "cell_type": "code",
      "source": [
        "#Exercício 2\n",
        "def Exercicio2 (dados):\n",
        "  for i in range(0, len(dados), 1):\n",
        "    dados[i] = i + 1\n",
        "  for i in range(0, len(dados), 1):\n",
        "    dados[i] = i - 1"
      ],
      "metadata": {
        "id": "IVh0EtsDP-c_"
      },
      "execution_count": null,
      "outputs": []
    },
    {
      "cell_type": "code",
      "source": [
        "#Exercício 3\n",
        "def Exercicio3 (dados):\n",
        "  for i in range(0, len(dados), 1):\n",
        "    for j in range(0, len(dados), 1):\n",
        "      dados[i] = dados[j] + 1"
      ],
      "metadata": {
        "id": "jsKJP2qdRXTn"
      },
      "execution_count": null,
      "outputs": []
    },
    {
      "cell_type": "code",
      "source": [
        "#Exercício 4\n",
        "def Exercicio4 (dados):\n",
        "  for i in range(0, len(dados), 1):\n",
        "    for j in range(0, len(dados), 1):\n",
        "      for k in range(0, 9000000, 1):\n",
        "        dados[i] = dados[j] + 1"
      ],
      "metadata": {
        "id": "j1jIPIHETanI"
      },
      "execution_count": null,
      "outputs": []
    }
  ]
}