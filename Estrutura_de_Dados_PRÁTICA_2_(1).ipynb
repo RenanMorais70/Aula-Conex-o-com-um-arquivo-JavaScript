{
  "nbformat": 4,
  "nbformat_minor": 0,
  "metadata": {
    "colab": {
      "provenance": [],
      "include_colab_link": true
    },
    "kernelspec": {
      "name": "python3",
      "display_name": "Python 3"
    },
    "language_info": {
      "name": "python"
    }
  },
  "cells": [
    {
      "cell_type": "markdown",
      "metadata": {
        "id": "view-in-github",
        "colab_type": "text"
      },
      "source": [
        "<a href=\"https://colab.research.google.com/github/RenanMorais70/Aula-Conex-o-com-um-arquivo-JavaScript/blob/main/Estrutura_de_Dados_PR%C3%81TICA_2_(1).ipynb\" target=\"_parent\"><img src=\"https://colab.research.google.com/assets/colab-badge.svg\" alt=\"Open In Colab\"/></a>"
      ]
    },
    {
      "cell_type": "markdown",
      "source": [
        "## MERGE SORT\n",
        "\n",
        "---"
      ],
      "metadata": {
        "id": "nYm37mC5Rak9"
      }
    },
    {
      "cell_type": "markdown",
      "source": [
        "### 1.2\tMerge Sort: algoritmo"
      ],
      "metadata": {
        "id": "x2_7hObEReQY"
      }
    },
    {
      "cell_type": "code",
      "source": [
        "def mergeSort(dados):\n",
        "  #Condiçao que indica se os dados ainda precisam ser divididos\n",
        "  if len(dados) > 1:\n",
        "    #divide recursivamente\n",
        "    meio = len(dados)//2\n",
        "    esquerda = dados[:meio]\n",
        "    direita = dados[meio:]\n",
        "    mergeSort(esquerda)\n",
        "    mergeSort(direita)\n",
        "    #intercala/mescla os dados\n",
        "    i = j = k = 0\n",
        "    while i<len(esquerda) and j<len(direita):\n",
        "      if esquerda[i]<direita[j]:\n",
        "        dados[k]=esquerda[i]\n",
        "        i=i+1\n",
        "      else:\n",
        "        dados[k]=direita[j]\n",
        "        j=j+1\n",
        "      k=k+1\n",
        "    while i<len(esquerda):\n",
        "      dados[k]=esquerda[i]\n",
        "      i=i+1\n",
        "      k=k+1\n",
        "    while j<len(direita):\n",
        "      dados[k]=direita[j]\n",
        "      j=j+1\n",
        "      k=k+1\n",
        "\n",
        "\n",
        "#Programa Principal\n",
        "dados = [54, 26, 93, 17, 77, 31, 44, 55]\n",
        "mergeSort(dados)\n",
        "print(dados)"
      ],
      "metadata": {
        "colab": {
          "base_uri": "https://localhost:8080/"
        },
        "id": "-VDf5pi-Rqzt",
        "outputId": "aa2d8570-d6e7-4c89-d2fd-4ce6ac6763b2"
      },
      "execution_count": null,
      "outputs": [
        {
          "output_type": "stream",
          "name": "stdout",
          "text": [
            "[17, 26, 31, 44, 54, 55, 77, 93]\n"
          ]
        }
      ]
    },
    {
      "cell_type": "markdown",
      "source": [
        "## QUICK SORT\n",
        "\n",
        "---"
      ],
      "metadata": {
        "id": "MAspSenzo7Uc"
      }
    },
    {
      "cell_type": "markdown",
      "source": [
        "### 1.2\tQuick Sort: algoritmo"
      ],
      "metadata": {
        "id": "sAas1eXXo_Uu"
      }
    },
    {
      "cell_type": "code",
      "source": [
        "#Versão clássica\n",
        "def quickSort(dados,inicio,fim):\n",
        "  if inicio < fim:\n",
        "    posicao_de_particionamento = partition(dados,inicio,fim)\n",
        "    quickSort(dados,inicio,posicao_de_particionamento - 1)\n",
        "    quickSort(dados,posicao_de_particionamento + 1,fim)\n",
        "\n",
        "def partition(dados,inicio,fim):\n",
        "  pivo = dados[inicio]\n",
        "  esq = inicio + 1\n",
        "  dir = fim\n",
        "  flag = False\n",
        "  while not flag:\n",
        "    while esq <= dir and dados[esq] <= pivo:\n",
        "      esq = esq + 1\n",
        "    while dir >= esq and dados[dir] >= pivo:\n",
        "      dir = dir -1\n",
        "    if dir < esq:\n",
        "      flag = True\n",
        "    else:\n",
        "      temp = dados[esq]\n",
        "      dados[esq] = dados[dir]\n",
        "      dados[dir] = temp\n",
        "  temp = dados[inicio]\n",
        "  dados[inicio] = dados[dir]\n",
        "  dados[dir] = temp\n",
        "  return dir\n",
        "\n",
        "#Programa Principal\n",
        "dados = [50,25,92,16,76,30,43,54,19]\n",
        "quickSort(dados,0,len(dados)-1)\n",
        "print(dados)"
      ],
      "metadata": {
        "colab": {
          "base_uri": "https://localhost:8080/"
        },
        "id": "xGUYngvbQbOo",
        "outputId": "9094302a-9459-4634-ca8c-f32d804c5aad"
      },
      "execution_count": null,
      "outputs": [
        {
          "output_type": "stream",
          "name": "stdout",
          "text": [
            "[16, 19, 25, 30, 43, 50, 54, 76, 92]\n"
          ]
        }
      ]
    },
    {
      "cell_type": "code",
      "source": [
        "#Versão simplificada usando as característica do Python\n",
        "def quickSort(dados):\n",
        "  if len(dados) < 2:\n",
        "    return dados\n",
        "  else:\n",
        "    pivo = dados[0]\n",
        "    menores = [i for i in dados[1:] if i <= pivo]\n",
        "    maiores = [i for i in dados[1:] if i >  pivo]\n",
        "    return quickSort(menores) + [pivo] + quickSort(maiores)\n",
        "\n",
        "\n",
        "#Programa Principal\n",
        "dados = [50, 25, 92, 16, 76, 30, 43, 54, 19]\n",
        "dados = quickSort(dados)\n",
        "print(dados)"
      ],
      "metadata": {
        "colab": {
          "base_uri": "https://localhost:8080/"
        },
        "id": "BIcYZ176pBgj",
        "outputId": "8b4318f1-90a8-42ab-8c5b-cb59b58de758"
      },
      "execution_count": null,
      "outputs": [
        {
          "output_type": "stream",
          "name": "stdout",
          "text": [
            "[92, 76, 54, 50, 43, 30, 25, 19, 16]\n"
          ]
        }
      ]
    },
    {
      "cell_type": "markdown",
      "source": [
        "## BUBBLE SORT GRANDE\n",
        "\n",
        "---"
      ],
      "metadata": {
        "id": "K63gynpW_9Qx"
      }
    },
    {
      "cell_type": "code",
      "source": [
        "import time\n",
        "import random\n",
        "\n",
        "def bubbleSort(dados):\n",
        "  #tamanho do conjunto de dados\n",
        "  tam = len(dados)\n",
        "  #laço que ocorre quantidade de vezes igual ao\n",
        "  #tamanho do conjunto de dados\n",
        "  for v in range(0, tam, 1):\n",
        "    #laço interno que pega os valores em pares\n",
        "    for i in range(0, tam-1, 1):\n",
        "      #comparação\n",
        "      if dados[i] > dados[i+1]:\n",
        "        #troca os dados usando variável auxiliar\n",
        "        aux = dados[i]\n",
        "        dados[i] = dados[i+1]\n",
        "        dados[i+1] = aux\n",
        "\n",
        "#Programa Principal\n",
        "dados = []\n",
        "for i in range(0,10000):\n",
        "  n = random.randint(1,9999)\n",
        "  dados.append(n)\n",
        "#print(dados)\n",
        "\n",
        "tic = time.perf_counter()\n",
        "bubbleSort(dados)\n",
        "toc = time.perf_counter()\n",
        "\n",
        "print(f\"Tempo: {toc - tic:0.4f} s\")\n",
        "#print(dados)"
      ],
      "metadata": {
        "colab": {
          "base_uri": "https://localhost:8080/"
        },
        "id": "IjZRP6mRAAeN",
        "outputId": "55a29b43-e3f4-4924-9e25-eb37bbce4a22"
      },
      "execution_count": null,
      "outputs": [
        {
          "output_type": "stream",
          "name": "stdout",
          "text": [
            "Tempo: 15.8906 s\n"
          ]
        }
      ]
    },
    {
      "cell_type": "markdown",
      "source": [
        "## QUICK SORT GRANDE\n",
        "\n",
        "---"
      ],
      "metadata": {
        "id": "iynTw5vQAEDj"
      }
    },
    {
      "cell_type": "code",
      "source": [
        "import time\n",
        "import random\n",
        "\n",
        "#Versão clássica\n",
        "def quickSort(dados,inicio,fim):\n",
        "  if inicio < fim:\n",
        "    posicao_de_particionamento = partition(dados,inicio,fim)\n",
        "    quickSort(dados,inicio,posicao_de_particionamento - 1)\n",
        "    quickSort(dados,posicao_de_particionamento + 1,fim)\n",
        "\n",
        "def partition(dados,inicio,fim):\n",
        "  pivo = dados[inicio]\n",
        "  esq = inicio + 1\n",
        "  dir = fim\n",
        "  flag = False\n",
        "  while not flag:\n",
        "    while esq <= dir and dados[esq] <= pivo:\n",
        "      esq = esq + 1\n",
        "    while dir >= esq and dados[dir] >= pivo:\n",
        "      dir = dir -1\n",
        "    if dir < esq:\n",
        "      flag = True\n",
        "    else:\n",
        "      temp = dados[esq]\n",
        "      dados[esq] = dados[dir]\n",
        "      dados[dir] = temp\n",
        "  temp = dados[inicio]\n",
        "  dados[inicio] = dados[dir]\n",
        "  dados[dir] = temp\n",
        "  return dir\n",
        "\n",
        "#Programa Principal\n",
        "dados = []\n",
        "for i in range(0,100000):\n",
        "  n = random.randint(1,9999)\n",
        "  dados.append(n)\n",
        "#print(dados)\n",
        "\n",
        "tic = time.perf_counter()\n",
        "quickSort(dados,0,len(dados)-1)\n",
        "toc = time.perf_counter()\n",
        "\n",
        "print(f\"Tempo: {toc - tic:0.4f} s\")\n",
        "#print(dados)"
      ],
      "metadata": {
        "colab": {
          "base_uri": "https://localhost:8080/"
        },
        "id": "P7qwGdcLAE9E",
        "outputId": "84e2b8f4-42a4-41a2-dbca-fc15b94e57d5"
      },
      "execution_count": null,
      "outputs": [
        {
          "output_type": "stream",
          "name": "stdout",
          "text": [
            "Tempo: 0.4927 s\n"
          ]
        }
      ]
    }
  ]
}