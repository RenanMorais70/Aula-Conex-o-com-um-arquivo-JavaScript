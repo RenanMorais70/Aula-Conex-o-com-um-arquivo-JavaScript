{
  "nbformat": 4,
  "nbformat_minor": 0,
  "metadata": {
    "colab": {
      "provenance": [],
      "include_colab_link": true
    },
    "kernelspec": {
      "name": "python3",
      "display_name": "Python 3"
    },
    "language_info": {
      "name": "python"
    }
  },
  "cells": [
    {
      "cell_type": "markdown",
      "metadata": {
        "id": "view-in-github",
        "colab_type": "text"
      },
      "source": [
        "<a href=\"https://colab.research.google.com/github/RenanMorais70/Aula-Conex-o-com-um-arquivo-JavaScript/blob/main/Estrutura_de_Dados_Aula_4.ipynb\" target=\"_parent\"><img src=\"https://colab.research.google.com/assets/colab-badge.svg\" alt=\"Open In Colab\"/></a>"
      ]
    },
    {
      "cell_type": "markdown",
      "source": [
        "## ÁRVORE BINÁRIA DE BUSCA\n",
        "\n",
        "---"
      ],
      "metadata": {
        "id": "dRo4d2xzy9uO"
      }
    },
    {
      "cell_type": "code",
      "source": [
        "class BST:\n",
        "    def __init__(self, dado=None):\n",
        "        self.dado = dado\n",
        "        self.esquerda = None\n",
        "        self.direita = None\n",
        "\n",
        "    def inserir(self, dado):\n",
        "        if (self.dado == None):\n",
        "            self.dado = dado\n",
        "        else:\n",
        "            if (dado < self.dado):\n",
        "                if (self.esquerda): #self.esquerda == None:\n",
        "                    self.esquerda.inserir(dado)\n",
        "                else:\n",
        "                    self.esquerda = BST(dado)\n",
        "            else:\n",
        "                if(self.direita): #self.direita == None:\n",
        "                    self.direita.inserir(dado)\n",
        "                else:\n",
        "                    self.direita = BST(dado)\n",
        "\n",
        "    def emOrdem(self, lst):\n",
        "        if (self.esquerda):\n",
        "            self.esquerda.emOrdem(lst)\n",
        "        lst.append(self.dado) #root\n",
        "        if (self.direita):\n",
        "            self.direita.emOrdem(lst)\n",
        "        return lst\n",
        "\n",
        "    def preOrdem(self, lst):\n",
        "        lst.append(self.dado) #root\n",
        "        if (self.esquerda):\n",
        "            self.esquerda.preOrdem(lst)\n",
        "        if (self.direita):\n",
        "            self.direita.preOrdem(lst)\n",
        "        return lst\n",
        "\n",
        "    def posOrdem(self, lst):\n",
        "        if (self.esquerda):\n",
        "            self.esquerda.posOrdem(lst)\n",
        "        if (self.direita):\n",
        "            self.direita.posOrdem(lst)\n",
        "        lst.append(self.dado) #root\n",
        "        return lst\n",
        "\n",
        "    def emNivel(self):\n",
        "        nodoAtual = self\n",
        "        lst = []\n",
        "        fila = []\n",
        "        fila.insert(0,nodoAtual)\n",
        "        while(len(fila) > 0):\n",
        "            nodoAtual = fila.pop()\n",
        "            lst.append(nodoAtual.dado)\n",
        "            if(nodoAtual.esquerda):\n",
        "                fila.insert(0,nodoAtual.esquerda)\n",
        "            if(nodoAtual.direita):\n",
        "                fila.insert(0,nodoAtual.direita)\n",
        "\n",
        "        return lst"
      ],
      "metadata": {
        "id": "fGgdvmQT4tdl"
      },
      "execution_count": null,
      "outputs": []
    },
    {
      "cell_type": "code",
      "source": [
        "Teste = BST()\n",
        "\n",
        "Teste.inserir(7)\n",
        "Teste.inserir(4)\n",
        "Teste.inserir(9)\n",
        "Teste.inserir(0)\n",
        "Teste.inserir(5)\n",
        "Teste.inserir(8)\n",
        "Teste.inserir(13)\n",
        "\n",
        "#          7\n",
        "#        /  \\\n",
        "#      /     \\\n",
        "#     4        9\n",
        "#    / \\      /  \\\n",
        "#   0   5    8    13\n",
        "\n",
        "print('Em ordem: ', Teste.emOrdem([]))\n",
        "print('Em pré-ordem: ', Teste.preOrdem([]))\n",
        "print('Em pós-ordem: ', Teste.posOrdem([]))\n",
        "\n",
        "print('Em nível: ', Teste.emNivel())"
      ],
      "metadata": {
        "colab": {
          "base_uri": "https://localhost:8080/"
        },
        "id": "ryVMrNQ6ByGW",
        "outputId": "e889011d-7ee2-4389-b74b-4682b87009b4"
      },
      "execution_count": null,
      "outputs": [
        {
          "output_type": "stream",
          "name": "stdout",
          "text": [
            "Em ordem:  [0, 4, 5, 7, 8, 9, 13]\n",
            "Em pré-ordem:  [7, 4, 0, 5, 9, 8, 13]\n",
            "Em pós-ordem:  [0, 5, 4, 8, 13, 9, 7]\n",
            "Em nível:  [7, 4, 9, 0, 5, 8, 13]\n"
          ]
        }
      ]
    },
    {
      "cell_type": "markdown",
      "source": [
        "## ÁRVORE AVL\n",
        "\n",
        "---"
      ],
      "metadata": {
        "id": "RI4Hw-tqnoPM"
      }
    },
    {
      "cell_type": "code",
      "source": [
        "class AVLNode:\n",
        "  def __init__(self, data, balanceFactor, left, right):\n",
        "    self.data = data\n",
        "    self.balanceFactor = 0\n",
        "    self.left = left\n",
        "    self.right = right\n",
        "\n",
        "class AVLTree:\n",
        "  def __init__(self):\n",
        "    self.root = None\n",
        "  def inOrderPrint(self):\n",
        "    self.recInOrderPrint(self.root)\n",
        "  def recInOrderPrint(self, root):\n",
        "    if root != None:\n",
        "      self.recInOrderPrint(root.left)\n",
        "      print (root.data)\n",
        "      self.recInOrderPrint(root.right)\n",
        "  def insert(self,data):\n",
        "    newNode = AVLNode(data,0,None,None)\n",
        "    [self.root,taller] = self.recInsertAVL(self.root,newNode)\n",
        "\n",
        "  def recInsertAVL(self, root, newNode):\n",
        "    if root == None:\n",
        "      root = newNode\n",
        "      root.balanceFactor = 0\n",
        "      taller = True\n",
        "    elif newNode.data< root.data:\n",
        "      [root.left,taller] = self.recInsertAVL(root.left, newNode)\n",
        "      if taller:\n",
        "        if root.balanceFactor == 0 :\n",
        "          root.balanceFactor = -1\n",
        "        elif root.balanceFactor == 1:\n",
        "          root.balanceFactor= 0\n",
        "          taller = False\n",
        "        else:\n",
        "          root = self.rightLeftRotate(root)\n",
        "          taller = False\n",
        "    else :\n",
        "      [root.right,taller] = self.recInsertAVL(root.right, newNode)\n",
        "      if taller:\n",
        "        if root.balanceFactor == -1:\n",
        "          root.balanceFactor = 0\n",
        "          taller = False\n",
        "        elif root.balanceFactor == 0 :\n",
        "          root.balanceFactor = 1\n",
        "        else:\n",
        "          root = self.rightLeftRotate(root)\n",
        "          taller = False\n",
        "    return [root,taller]\n",
        "\n",
        "  def rightLeftRotate(self, root):\n",
        "    X = root.right\n",
        "    if X.balanceFactor == 1:\n",
        "      root.balanceFactor = 0\n",
        "      X.balanceFactor = 0\n",
        "      root = self.singleRightRotate(r)\n",
        "    else:\n",
        "      Y = X.left\n",
        "      if Y.balanceFactor == -1:\n",
        "        root.balanceFactor = 0\n",
        "        X.balanceFactor = 1\n",
        "      elif Y.balanceFactor == 0:\n",
        "        root.balanceFactor = 0\n",
        "        X.balanceFactor = 0\n",
        "      else:\n",
        "        root.balanceFactor = -1\n",
        "        X.balanceFactor = 0\n",
        "      Y.balanceFactor = 0\n",
        "      root.right = self.singleLeftRotate(X)\n",
        "      root = self.singleRightRotate(root)\n",
        "    return root\n",
        "\n",
        "  def rightLeftRotate(self,root):\n",
        "    X = root.left\n",
        "    if X.balanceFactor == -1:\n",
        "      root.balanceFactor = 0\n",
        "      X.balanceFactor = 0\n",
        "      root = self.singleLeftRotate(root)\n",
        "    else:\n",
        "      Y = X.right\n",
        "      if Y.balanceFactor == -1:\n",
        "        root.balanceFactor = 1\n",
        "        X.balanceFactor = 0\n",
        "      elif Y.balanceFactor == 0:\n",
        "        root.balanceFactor = 0\n",
        "        X.balanceFactor = 0\n",
        "      else:\n",
        "        root.balanceFactor = 0\n",
        "        X.balanceFactor = -1\n",
        "      Y.balanceFactor = 0\n",
        "      root.left = self.singleRightRotate(X)\n",
        "      root = self.singleLeftRotate(root)\n",
        "    return root\n",
        "\n",
        "def singleRightRotate(self,r):\n",
        "  X = root.right\n",
        "  root.right = X.left\n",
        "  X.left = r\n",
        "  return X\n",
        "\n",
        "def singleLeftRotate(self,root):\n",
        "  W = root.left\n",
        "  root.left = W.right\n",
        "  W.right = root\n",
        "  return W\n",
        "\n",
        "def height(self):\n",
        "  return self.recHeight(self.root)\n",
        "\n",
        "def recHeight(self,root):\n",
        "  if root== None: return 0\n",
        "  else:\n",
        "    leftH = self.recHeight(root.left)\n",
        "    rightH = self.recHeight(root.right)\n",
        "    if leftH>rightH:\n",
        "      return 1+leftH\n",
        "    else:\n",
        "      return 1+rightH\n",
        "\n",
        "\n",
        "avl = AVLTree()\n",
        "data = [3,1,9,6,0,11,2,5,4]\n",
        "for i in range(len(data)):\n",
        "  avl.insert(data[i])\n",
        "avl.inOrderPrint()\n",
        "print (\"height = \", avl.height())"
      ],
      "metadata": {
        "colab": {
          "base_uri": "https://localhost:8080/"
        },
        "id": "vNK43QHQnqsU",
        "outputId": "698f3b0a-53bd-441d-e848-67e23ab7d129"
      },
      "execution_count": null,
      "outputs": [
        {
          "output_type": "error",
          "ename": "AttributeError",
          "evalue": "ignored",
          "traceback": [
            "\u001b[0;31m---------------------------------------------------------------------------\u001b[0m",
            "\u001b[0;31mAttributeError\u001b[0m                            Traceback (most recent call last)",
            "\u001b[0;32m<ipython-input-1-e5b656363f2c>\u001b[0m in \u001b[0;36m<module>\u001b[0;34m()\u001b[0m\n\u001b[1;32m    122\u001b[0m \u001b[0mdata\u001b[0m \u001b[0;34m=\u001b[0m \u001b[0;34m[\u001b[0m\u001b[0;36m3\u001b[0m\u001b[0;34m,\u001b[0m\u001b[0;36m1\u001b[0m\u001b[0;34m,\u001b[0m\u001b[0;36m9\u001b[0m\u001b[0;34m,\u001b[0m\u001b[0;36m6\u001b[0m\u001b[0;34m,\u001b[0m\u001b[0;36m0\u001b[0m\u001b[0;34m,\u001b[0m\u001b[0;36m11\u001b[0m\u001b[0;34m,\u001b[0m\u001b[0;36m2\u001b[0m\u001b[0;34m,\u001b[0m\u001b[0;36m5\u001b[0m\u001b[0;34m,\u001b[0m\u001b[0;36m4\u001b[0m\u001b[0;34m]\u001b[0m\u001b[0;34m\u001b[0m\u001b[0;34m\u001b[0m\u001b[0m\n\u001b[1;32m    123\u001b[0m \u001b[0;32mfor\u001b[0m \u001b[0mi\u001b[0m \u001b[0;32min\u001b[0m \u001b[0mrange\u001b[0m\u001b[0;34m(\u001b[0m\u001b[0mlen\u001b[0m\u001b[0;34m(\u001b[0m\u001b[0mdata\u001b[0m\u001b[0;34m)\u001b[0m\u001b[0;34m)\u001b[0m\u001b[0;34m:\u001b[0m\u001b[0;34m\u001b[0m\u001b[0;34m\u001b[0m\u001b[0m\n\u001b[0;32m--> 124\u001b[0;31m   \u001b[0mavl\u001b[0m\u001b[0;34m.\u001b[0m\u001b[0minsert\u001b[0m\u001b[0;34m(\u001b[0m\u001b[0mdata\u001b[0m\u001b[0;34m[\u001b[0m\u001b[0mi\u001b[0m\u001b[0;34m]\u001b[0m\u001b[0;34m)\u001b[0m\u001b[0;34m\u001b[0m\u001b[0;34m\u001b[0m\u001b[0m\n\u001b[0m\u001b[1;32m    125\u001b[0m \u001b[0mavl\u001b[0m\u001b[0;34m.\u001b[0m\u001b[0minOrderPrint\u001b[0m\u001b[0;34m(\u001b[0m\u001b[0;34m)\u001b[0m\u001b[0;34m\u001b[0m\u001b[0;34m\u001b[0m\u001b[0m\n\u001b[1;32m    126\u001b[0m \u001b[0mprint\u001b[0m \u001b[0;34m(\u001b[0m\u001b[0;34m\"height = \"\u001b[0m\u001b[0;34m,\u001b[0m \u001b[0mavl\u001b[0m\u001b[0;34m.\u001b[0m\u001b[0mheight\u001b[0m\u001b[0;34m(\u001b[0m\u001b[0;34m)\u001b[0m\u001b[0;34m)\u001b[0m\u001b[0;34m\u001b[0m\u001b[0;34m\u001b[0m\u001b[0m\n",
            "\u001b[0;32m<ipython-input-1-e5b656363f2c>\u001b[0m in \u001b[0;36minsert\u001b[0;34m(self, data)\u001b[0m\n\u001b[1;32m     18\u001b[0m   \u001b[0;32mdef\u001b[0m \u001b[0minsert\u001b[0m\u001b[0;34m(\u001b[0m\u001b[0mself\u001b[0m\u001b[0;34m,\u001b[0m\u001b[0mdata\u001b[0m\u001b[0;34m)\u001b[0m\u001b[0;34m:\u001b[0m\u001b[0;34m\u001b[0m\u001b[0;34m\u001b[0m\u001b[0m\n\u001b[1;32m     19\u001b[0m     \u001b[0mnewNode\u001b[0m \u001b[0;34m=\u001b[0m \u001b[0mAVLNode\u001b[0m\u001b[0;34m(\u001b[0m\u001b[0mdata\u001b[0m\u001b[0;34m,\u001b[0m\u001b[0;36m0\u001b[0m\u001b[0;34m,\u001b[0m\u001b[0;32mNone\u001b[0m\u001b[0;34m,\u001b[0m\u001b[0;32mNone\u001b[0m\u001b[0;34m)\u001b[0m\u001b[0;34m\u001b[0m\u001b[0;34m\u001b[0m\u001b[0m\n\u001b[0;32m---> 20\u001b[0;31m     \u001b[0;34m[\u001b[0m\u001b[0mself\u001b[0m\u001b[0;34m.\u001b[0m\u001b[0mroot\u001b[0m\u001b[0;34m,\u001b[0m\u001b[0mtaller\u001b[0m\u001b[0;34m]\u001b[0m \u001b[0;34m=\u001b[0m \u001b[0mself\u001b[0m\u001b[0;34m.\u001b[0m\u001b[0mrecInsertAVL\u001b[0m\u001b[0;34m(\u001b[0m\u001b[0mself\u001b[0m\u001b[0;34m.\u001b[0m\u001b[0mroot\u001b[0m\u001b[0;34m,\u001b[0m\u001b[0mnewNode\u001b[0m\u001b[0;34m)\u001b[0m\u001b[0;34m\u001b[0m\u001b[0;34m\u001b[0m\u001b[0m\n\u001b[0m\u001b[1;32m     21\u001b[0m \u001b[0;34m\u001b[0m\u001b[0m\n\u001b[1;32m     22\u001b[0m   \u001b[0;32mdef\u001b[0m \u001b[0mrecInsertAVL\u001b[0m\u001b[0;34m(\u001b[0m\u001b[0mself\u001b[0m\u001b[0;34m,\u001b[0m \u001b[0mroot\u001b[0m\u001b[0;34m,\u001b[0m \u001b[0mnewNode\u001b[0m\u001b[0;34m)\u001b[0m\u001b[0;34m:\u001b[0m\u001b[0;34m\u001b[0m\u001b[0;34m\u001b[0m\u001b[0m\n",
            "\u001b[0;32m<ipython-input-1-e5b656363f2c>\u001b[0m in \u001b[0;36mrecInsertAVL\u001b[0;34m(self, root, newNode)\u001b[0m\n\u001b[1;32m     37\u001b[0m           \u001b[0mtaller\u001b[0m \u001b[0;34m=\u001b[0m \u001b[0;32mFalse\u001b[0m\u001b[0;34m\u001b[0m\u001b[0;34m\u001b[0m\u001b[0m\n\u001b[1;32m     38\u001b[0m     \u001b[0;32melse\u001b[0m \u001b[0;34m:\u001b[0m\u001b[0;34m\u001b[0m\u001b[0;34m\u001b[0m\u001b[0m\n\u001b[0;32m---> 39\u001b[0;31m       \u001b[0;34m[\u001b[0m\u001b[0mroot\u001b[0m\u001b[0;34m.\u001b[0m\u001b[0mright\u001b[0m\u001b[0;34m,\u001b[0m\u001b[0mtaller\u001b[0m\u001b[0;34m]\u001b[0m \u001b[0;34m=\u001b[0m \u001b[0mself\u001b[0m\u001b[0;34m.\u001b[0m\u001b[0mrecInsertAVL\u001b[0m\u001b[0;34m(\u001b[0m\u001b[0mroot\u001b[0m\u001b[0;34m.\u001b[0m\u001b[0mright\u001b[0m\u001b[0;34m,\u001b[0m \u001b[0mnewNode\u001b[0m\u001b[0;34m)\u001b[0m\u001b[0;34m\u001b[0m\u001b[0;34m\u001b[0m\u001b[0m\n\u001b[0m\u001b[1;32m     40\u001b[0m       \u001b[0;32mif\u001b[0m \u001b[0mtaller\u001b[0m\u001b[0;34m:\u001b[0m\u001b[0;34m\u001b[0m\u001b[0;34m\u001b[0m\u001b[0m\n\u001b[1;32m     41\u001b[0m         \u001b[0;32mif\u001b[0m \u001b[0mroot\u001b[0m\u001b[0;34m.\u001b[0m\u001b[0mbalanceFactor\u001b[0m \u001b[0;34m==\u001b[0m \u001b[0;34m-\u001b[0m\u001b[0;36m1\u001b[0m\u001b[0;34m:\u001b[0m\u001b[0;34m\u001b[0m\u001b[0;34m\u001b[0m\u001b[0m\n",
            "\u001b[0;32m<ipython-input-1-e5b656363f2c>\u001b[0m in \u001b[0;36mrecInsertAVL\u001b[0;34m(self, root, newNode)\u001b[0m\n\u001b[1;32m     26\u001b[0m       \u001b[0mtaller\u001b[0m \u001b[0;34m=\u001b[0m \u001b[0;32mTrue\u001b[0m\u001b[0;34m\u001b[0m\u001b[0;34m\u001b[0m\u001b[0m\n\u001b[1;32m     27\u001b[0m     \u001b[0;32melif\u001b[0m \u001b[0mnewNode\u001b[0m\u001b[0;34m.\u001b[0m\u001b[0mdata\u001b[0m\u001b[0;34m<\u001b[0m \u001b[0mroot\u001b[0m\u001b[0;34m.\u001b[0m\u001b[0mdata\u001b[0m\u001b[0;34m:\u001b[0m\u001b[0;34m\u001b[0m\u001b[0;34m\u001b[0m\u001b[0m\n\u001b[0;32m---> 28\u001b[0;31m       \u001b[0;34m[\u001b[0m\u001b[0mroot\u001b[0m\u001b[0;34m.\u001b[0m\u001b[0mleft\u001b[0m\u001b[0;34m,\u001b[0m\u001b[0mtaller\u001b[0m\u001b[0;34m]\u001b[0m \u001b[0;34m=\u001b[0m \u001b[0mself\u001b[0m\u001b[0;34m.\u001b[0m\u001b[0mrecInsertAVL\u001b[0m\u001b[0;34m(\u001b[0m\u001b[0mroot\u001b[0m\u001b[0;34m.\u001b[0m\u001b[0mleft\u001b[0m\u001b[0;34m,\u001b[0m \u001b[0mnewNode\u001b[0m\u001b[0;34m)\u001b[0m\u001b[0;34m\u001b[0m\u001b[0;34m\u001b[0m\u001b[0m\n\u001b[0m\u001b[1;32m     29\u001b[0m       \u001b[0;32mif\u001b[0m \u001b[0mtaller\u001b[0m\u001b[0;34m:\u001b[0m\u001b[0;34m\u001b[0m\u001b[0;34m\u001b[0m\u001b[0m\n\u001b[1;32m     30\u001b[0m         \u001b[0;32mif\u001b[0m \u001b[0mroot\u001b[0m\u001b[0;34m.\u001b[0m\u001b[0mbalanceFactor\u001b[0m \u001b[0;34m==\u001b[0m \u001b[0;36m0\u001b[0m \u001b[0;34m:\u001b[0m\u001b[0;34m\u001b[0m\u001b[0;34m\u001b[0m\u001b[0m\n",
            "\u001b[0;32m<ipython-input-1-e5b656363f2c>\u001b[0m in \u001b[0;36mrecInsertAVL\u001b[0;34m(self, root, newNode)\u001b[0m\n\u001b[1;32m     34\u001b[0m           \u001b[0mtaller\u001b[0m \u001b[0;34m=\u001b[0m \u001b[0;32mFalse\u001b[0m\u001b[0;34m\u001b[0m\u001b[0;34m\u001b[0m\u001b[0m\n\u001b[1;32m     35\u001b[0m         \u001b[0;32melse\u001b[0m\u001b[0;34m:\u001b[0m\u001b[0;34m\u001b[0m\u001b[0;34m\u001b[0m\u001b[0m\n\u001b[0;32m---> 36\u001b[0;31m           \u001b[0mroot\u001b[0m \u001b[0;34m=\u001b[0m \u001b[0mself\u001b[0m\u001b[0;34m.\u001b[0m\u001b[0mrightLeftRotate\u001b[0m\u001b[0;34m(\u001b[0m\u001b[0mroot\u001b[0m\u001b[0;34m)\u001b[0m\u001b[0;34m\u001b[0m\u001b[0;34m\u001b[0m\u001b[0m\n\u001b[0m\u001b[1;32m     37\u001b[0m           \u001b[0mtaller\u001b[0m \u001b[0;34m=\u001b[0m \u001b[0;32mFalse\u001b[0m\u001b[0;34m\u001b[0m\u001b[0;34m\u001b[0m\u001b[0m\n\u001b[1;32m     38\u001b[0m     \u001b[0;32melse\u001b[0m \u001b[0;34m:\u001b[0m\u001b[0;34m\u001b[0m\u001b[0;34m\u001b[0m\u001b[0m\n",
            "\u001b[0;32m<ipython-input-1-e5b656363f2c>\u001b[0m in \u001b[0;36mrightLeftRotate\u001b[0;34m(self, root)\u001b[0m\n\u001b[1;32m     76\u001b[0m       \u001b[0mroot\u001b[0m\u001b[0;34m.\u001b[0m\u001b[0mbalanceFactor\u001b[0m \u001b[0;34m=\u001b[0m \u001b[0;36m0\u001b[0m\u001b[0;34m\u001b[0m\u001b[0;34m\u001b[0m\u001b[0m\n\u001b[1;32m     77\u001b[0m       \u001b[0mX\u001b[0m\u001b[0;34m.\u001b[0m\u001b[0mbalanceFactor\u001b[0m \u001b[0;34m=\u001b[0m \u001b[0;36m0\u001b[0m\u001b[0;34m\u001b[0m\u001b[0;34m\u001b[0m\u001b[0m\n\u001b[0;32m---> 78\u001b[0;31m       \u001b[0mroot\u001b[0m \u001b[0;34m=\u001b[0m \u001b[0mself\u001b[0m\u001b[0;34m.\u001b[0m\u001b[0msingleLeftRotate\u001b[0m\u001b[0;34m(\u001b[0m\u001b[0mroot\u001b[0m\u001b[0;34m)\u001b[0m\u001b[0;34m\u001b[0m\u001b[0;34m\u001b[0m\u001b[0m\n\u001b[0m\u001b[1;32m     79\u001b[0m     \u001b[0;32melse\u001b[0m\u001b[0;34m:\u001b[0m\u001b[0;34m\u001b[0m\u001b[0;34m\u001b[0m\u001b[0m\n\u001b[1;32m     80\u001b[0m       \u001b[0mY\u001b[0m \u001b[0;34m=\u001b[0m \u001b[0mX\u001b[0m\u001b[0;34m.\u001b[0m\u001b[0mright\u001b[0m\u001b[0;34m\u001b[0m\u001b[0;34m\u001b[0m\u001b[0m\n",
            "\u001b[0;31mAttributeError\u001b[0m: 'AVLTree' object has no attribute 'singleLeftRotate'"
          ]
        }
      ]
    }
  ]
}